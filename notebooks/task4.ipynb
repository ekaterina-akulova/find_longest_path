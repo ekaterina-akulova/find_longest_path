{
 "cells": [
  {
   "cell_type": "code",
   "execution_count": 1,
   "id": "b3478489",
   "metadata": {},
   "outputs": [
    {
     "ename": "ModuleNotFoundError",
     "evalue": "No module named 'graphframes'",
     "output_type": "error",
     "traceback": [
      "\u001B[0;31m---------------------------------------------------------------------------\u001B[0m",
      "\u001B[0;31mModuleNotFoundError\u001B[0m                       Traceback (most recent call last)",
      "Cell \u001B[0;32mIn [1], line 10\u001B[0m\n\u001B[1;32m      8\u001B[0m \u001B[38;5;28;01mimport\u001B[39;00m \u001B[38;5;21;01mpandas\u001B[39;00m \u001B[38;5;28;01mas\u001B[39;00m \u001B[38;5;21;01mpd\u001B[39;00m\n\u001B[1;32m      9\u001B[0m \u001B[38;5;28;01mimport\u001B[39;00m \u001B[38;5;21;01mos\u001B[39;00m\n\u001B[0;32m---> 10\u001B[0m \u001B[38;5;28;01mfrom\u001B[39;00m \u001B[38;5;21;01mgraphframes\u001B[39;00m \u001B[38;5;28;01mimport\u001B[39;00m GraphFrame\n\u001B[1;32m     11\u001B[0m \u001B[38;5;28;01mimport\u001B[39;00m \u001B[38;5;21;01mnetworkx\u001B[39;00m \u001B[38;5;28;01mas\u001B[39;00m \u001B[38;5;21;01mnx\u001B[39;00m\n\u001B[1;32m     12\u001B[0m \u001B[38;5;28;01mimport\u001B[39;00m \u001B[38;5;21;01mmatplotlib\u001B[39;00m\u001B[38;5;21;01m.\u001B[39;00m\u001B[38;5;21;01mpyplot\u001B[39;00m \u001B[38;5;28;01mas\u001B[39;00m \u001B[38;5;21;01mplt\u001B[39;00m\n",
      "\u001B[0;31mModuleNotFoundError\u001B[0m: No module named 'graphframes'"
     ]
    }
   ],
   "source": [
    "import pandas as pd\n",
    "import numpy as np\n",
    "import pyspark\n",
    "from pyspark.sql import SparkSession\n",
    "from pyspark.context import SparkContext\n",
    "from pyspark.sql import *\n",
    "from pyspark.sql.functions import *\n",
    "import pandas as pd\n",
    "import os\n",
    "from graphframes import GraphFrame\n",
    "import networkx as nx\n",
    "import matplotlib.pyplot as plt\n",
    "import builtins as p\n",
    "from pyspark.sql.types import StructType, StructField, IntegerType, StringType"
   ]
  },
  {
   "cell_type": "code",
   "execution_count": 750,
   "id": "ee66ce7d",
   "metadata": {},
   "outputs": [],
   "source": [
    " def swap_columns (df, col1, col2):\n",
    "    col_list = list(df.columns)\n",
    "    x, y = col_list.index (col1), col_list.index(col2)\n",
    "    col_list[y], col_list[x] = col_list[x], col_list[y]\n",
    "    df = df[col_list]\n",
    "    return df"
   ]
  },
  {
   "cell_type": "code",
   "execution_count": 751,
   "id": "a43a3db9",
   "metadata": {},
   "outputs": [],
   "source": [
    "# conf = pyspark.SparkConf()\n",
    "# spark = pyspark.SparkContext(conf=conf)"
   ]
  },
  {
   "cell_type": "code",
   "execution_count": 752,
   "id": "6dd8b245",
   "metadata": {},
   "outputs": [],
   "source": [
    "# conf = SparkConf().setAppName('appName').setMaster('local[*]')\n",
    "# sc = SparkContext(conf=conf)\n",
    "# spark = SparkSession(sc)"
   ]
  },
  {
   "cell_type": "code",
   "execution_count": 753,
   "id": "af341601",
   "metadata": {},
   "outputs": [],
   "source": [
    "spark = SparkSession.builder \\\n",
    "     .master(\"local[*]\") \\\n",
    "     .config(\"spark.executor.memory\", \"70g\") \\\n",
    "     .config(\"spark.driver.memory\", \"50g\") \\\n",
    "     .config(\"spark.memory.offHeap.enabled\",\"true\") \\\n",
    "     .config(\"spark.memory.offHeap.size\",\"16g\") \\\n",
    "     .config(\"spark.jars.packages\", \"graphframes:graphframes:0.8.2-spark3.2-s_2.12\") \\\n",
    "     .getOrCreate()"
   ]
  },
  {
   "cell_type": "code",
   "execution_count": 754,
   "id": "36c01e55",
   "metadata": {},
   "outputs": [],
   "source": [
    "data = 'data_4task.csv'"
   ]
  },
  {
   "cell_type": "code",
   "execution_count": 755,
   "id": "d0c47e89",
   "metadata": {},
   "outputs": [
    {
     "name": "stderr",
     "output_type": "stream",
     "text": [
      "                                                                                \r"
     ]
    }
   ],
   "source": [
    "df = spark.read.load(data,\n",
    "                     format=\"csv\", sep=\";\", inferSchema=\"true\", header=\"true\")"
   ]
  },
  {
   "cell_type": "code",
   "execution_count": 756,
   "id": "c4bcb997",
   "metadata": {},
   "outputs": [
    {
     "name": "stdout",
     "output_type": "stream",
     "text": [
      "Data overview\n",
      "root\n",
      " |-- src: string (nullable = true)\n",
      " |-- dst: string (nullable = true)\n",
      " |-- cnt: integer (nullable = true)\n",
      "\n",
      "Columns overview\n"
     ]
    },
    {
     "data": {
      "text/html": [
       "<div>\n",
       "<style scoped>\n",
       "    .dataframe tbody tr th:only-of-type {\n",
       "        vertical-align: middle;\n",
       "    }\n",
       "\n",
       "    .dataframe tbody tr th {\n",
       "        vertical-align: top;\n",
       "    }\n",
       "\n",
       "    .dataframe thead th {\n",
       "        text-align: right;\n",
       "    }\n",
       "</style>\n",
       "<table border=\"1\" class=\"dataframe\">\n",
       "  <thead>\n",
       "    <tr style=\"text-align: right;\">\n",
       "      <th></th>\n",
       "      <th>Column Name</th>\n",
       "      <th>Data type</th>\n",
       "    </tr>\n",
       "  </thead>\n",
       "  <tbody>\n",
       "    <tr>\n",
       "      <th>0</th>\n",
       "      <td>src</td>\n",
       "      <td>string</td>\n",
       "    </tr>\n",
       "    <tr>\n",
       "      <th>1</th>\n",
       "      <td>dst</td>\n",
       "      <td>string</td>\n",
       "    </tr>\n",
       "    <tr>\n",
       "      <th>2</th>\n",
       "      <td>cnt</td>\n",
       "      <td>int</td>\n",
       "    </tr>\n",
       "  </tbody>\n",
       "</table>\n",
       "</div>"
      ],
      "text/plain": [
       "  Column Name Data type\n",
       "0         src    string\n",
       "1         dst    string\n",
       "2         cnt       int"
      ]
     },
     "execution_count": 756,
     "metadata": {},
     "output_type": "execute_result"
    }
   ],
   "source": [
    "print('Data overview')\n",
    "df.printSchema()\n",
    "print('Columns overview')\n",
    "pd.DataFrame(df.dtypes, columns = ['Column Name','Data type'])"
   ]
  },
  {
   "cell_type": "code",
   "execution_count": 757,
   "id": "dbd736c2",
   "metadata": {},
   "outputs": [],
   "source": [
    "# print(f'There are total {df.count()} row, Let print first 10 data rows:')\n",
    "# df.limit(10).toPandas()"
   ]
  },
  {
   "cell_type": "code",
   "execution_count": 758,
   "id": "b332960f",
   "metadata": {},
   "outputs": [],
   "source": [
    "# df.select('src').distinct().count()"
   ]
  },
  {
   "cell_type": "code",
   "execution_count": 759,
   "id": "3b6f1335",
   "metadata": {},
   "outputs": [],
   "source": [
    "# df.select('dst').distinct().count()"
   ]
  },
  {
   "cell_type": "code",
   "execution_count": 760,
   "id": "a52f4404",
   "metadata": {},
   "outputs": [
    {
     "name": "stderr",
     "output_type": "stream",
     "text": [
      "                                                                                \r"
     ]
    },
    {
     "data": {
      "text/plain": [
       "7858013"
      ]
     },
     "execution_count": 760,
     "metadata": {},
     "output_type": "execute_result"
    }
   ],
   "source": [
    "df = df.na.drop()\n",
    "df = df.distinct()\n",
    "df.count()"
   ]
  },
  {
   "cell_type": "code",
   "execution_count": 761,
   "id": "e9c2f9f9",
   "metadata": {},
   "outputs": [],
   "source": [
    "# df.show(20)"
   ]
  },
  {
   "cell_type": "code",
   "execution_count": 762,
   "id": "8e66b49e",
   "metadata": {},
   "outputs": [
    {
     "name": "stderr",
     "output_type": "stream",
     "text": [
      "                                                                                \r"
     ]
    },
    {
     "data": {
      "text/plain": [
       "7857990"
      ]
     },
     "execution_count": 762,
     "metadata": {},
     "output_type": "execute_result"
    }
   ],
   "source": [
    "df = df.filter(df.src != '0.0.0.0')\n",
    "df = df.filter(df.dst != '0.0.0.0')\n",
    "df = df.filter(df.src != '127.0.0.1')\n",
    "df = df.filter(df.dst != '127.0.0.1')\n",
    "df = df.filter(df.src != df.dst)\n",
    "df.count()"
   ]
  },
  {
   "cell_type": "code",
   "execution_count": 763,
   "id": "340ebfaf",
   "metadata": {},
   "outputs": [],
   "source": [
    "# df.registerTempTable(\"data_net\")\n",
    "# spark.sql('''\n",
    "# SELECT COUNT(*) AS count_cols FROM data_net\n",
    "# ''').toPandas().head(1)"
   ]
  },
  {
   "cell_type": "code",
   "execution_count": 764,
   "id": "24af5568",
   "metadata": {},
   "outputs": [],
   "source": [
    "# row1 = df.agg({\"cnt\": \"max\"}).collect()[0]\n",
    "# row1"
   ]
  },
  {
   "cell_type": "code",
   "execution_count": 765,
   "id": "7605579e",
   "metadata": {},
   "outputs": [],
   "source": [
    "# df.select(['cnt']).describe().show()"
   ]
  },
  {
   "cell_type": "code",
   "execution_count": 766,
   "id": "270108c8",
   "metadata": {},
   "outputs": [],
   "source": [
    "# spark.sql('''\n",
    "# SELECT src, dst, COUNT(*) AS num_vector\n",
    "# FROM data_net\n",
    "# GROUP BY src, dst\n",
    "# ORDER BY num_vector DESC\n",
    "# ''').toPandas().head(20)"
   ]
  },
  {
   "cell_type": "code",
   "execution_count": 767,
   "id": "030e0adf",
   "metadata": {},
   "outputs": [],
   "source": [
    "# ranked_df = df.select(df.src, df.dst) \\\n",
    "#     .groupBy (df.src, df.dst) \\\n",
    "#     .count() \\\n",
    "#     .orderBy(\"count\", ascending=False) \\\n",
    "#     .show(5)"
   ]
  },
  {
   "cell_type": "code",
   "execution_count": 768,
   "id": "1815541d",
   "metadata": {
    "scrolled": true
   },
   "outputs": [],
   "source": [
    "# ranked_df = df.select(df.src, df.dst, df.cnt) \\\n",
    "#     .distinct() \\\n",
    "#     .sort(df.cnt, ascending=False) \\\n",
    "#     .show()"
   ]
  },
  {
   "cell_type": "code",
   "execution_count": 769,
   "id": "27f8223e",
   "metadata": {},
   "outputs": [],
   "source": [
    "# df.groupBy(\"src\").count().show()"
   ]
  },
  {
   "cell_type": "code",
   "execution_count": 770,
   "id": "19054a24",
   "metadata": {},
   "outputs": [],
   "source": [
    "# spark.sql('''\n",
    "# SELECT src , COUNT(*) AS num_src\n",
    "# FROM data_net\n",
    "# GROUP BY src\n",
    "# ORDER BY num_src DESC\n",
    "# ''').toPandas().head(20)"
   ]
  },
  {
   "cell_type": "code",
   "execution_count": 771,
   "id": "11549697",
   "metadata": {},
   "outputs": [],
   "source": [
    "# spark.sql('''\n",
    "# SELECT dst , COUNT(*) AS num_dst\n",
    "# FROM data_net\n",
    "# GROUP BY dst\n",
    "# ORDER BY num_dst DESC\n",
    "# ''').toPandas().head(20)"
   ]
  },
  {
   "cell_type": "code",
   "execution_count": 772,
   "id": "5f5bf484",
   "metadata": {},
   "outputs": [
    {
     "name": "stderr",
     "output_type": "stream",
     "text": [
      "                                                                                \r"
     ]
    },
    {
     "data": {
      "text/html": [
       "<div>\n",
       "<style scoped>\n",
       "    .dataframe tbody tr th:only-of-type {\n",
       "        vertical-align: middle;\n",
       "    }\n",
       "\n",
       "    .dataframe tbody tr th {\n",
       "        vertical-align: top;\n",
       "    }\n",
       "\n",
       "    .dataframe thead th {\n",
       "        text-align: right;\n",
       "    }\n",
       "</style>\n",
       "<table border=\"1\" class=\"dataframe\">\n",
       "  <thead>\n",
       "    <tr style=\"text-align: right;\">\n",
       "      <th></th>\n",
       "      <th>ip</th>\n",
       "    </tr>\n",
       "  </thead>\n",
       "  <tbody>\n",
       "    <tr>\n",
       "      <th>0</th>\n",
       "      <td>1.0.130.32</td>\n",
       "    </tr>\n",
       "    <tr>\n",
       "      <th>1</th>\n",
       "      <td>1.0.143.254</td>\n",
       "    </tr>\n",
       "    <tr>\n",
       "      <th>2</th>\n",
       "      <td>1.0.158.219</td>\n",
       "    </tr>\n",
       "    <tr>\n",
       "      <th>3</th>\n",
       "      <td>1.0.229.205</td>\n",
       "    </tr>\n",
       "    <tr>\n",
       "      <th>4</th>\n",
       "      <td>1.0.250.164</td>\n",
       "    </tr>\n",
       "    <tr>\n",
       "      <th>...</th>\n",
       "      <td>...</td>\n",
       "    </tr>\n",
       "    <tr>\n",
       "      <th>1824355</th>\n",
       "      <td>99.195.88.111</td>\n",
       "    </tr>\n",
       "    <tr>\n",
       "      <th>1824356</th>\n",
       "      <td>99.228.5.238</td>\n",
       "    </tr>\n",
       "    <tr>\n",
       "      <th>1824357</th>\n",
       "      <td>99.244.90.72</td>\n",
       "    </tr>\n",
       "    <tr>\n",
       "      <th>1824358</th>\n",
       "      <td>99.250.148.153</td>\n",
       "    </tr>\n",
       "    <tr>\n",
       "      <th>1824359</th>\n",
       "      <td>99.56.219.4</td>\n",
       "    </tr>\n",
       "  </tbody>\n",
       "</table>\n",
       "<p>1824360 rows × 1 columns</p>\n",
       "</div>"
      ],
      "text/plain": [
       "                     ip\n",
       "0            1.0.130.32\n",
       "1           1.0.143.254\n",
       "2           1.0.158.219\n",
       "3           1.0.229.205\n",
       "4           1.0.250.164\n",
       "...                 ...\n",
       "1824355   99.195.88.111\n",
       "1824356    99.228.5.238\n",
       "1824357    99.244.90.72\n",
       "1824358  99.250.148.153\n",
       "1824359     99.56.219.4\n",
       "\n",
       "[1824360 rows x 1 columns]"
      ]
     },
     "execution_count": 772,
     "metadata": {},
     "output_type": "execute_result"
    }
   ],
   "source": [
    "spark.conf.set(\"spark.sql.execution.arrow.pyspark.enabled\", \"true\")\n",
    "vertex1 = df.select('src').distinct().toPandas()\n",
    "vertex1.rename(columns = {'src' : 'ip'}, inplace = True)\n",
    "vertex1"
   ]
  },
  {
   "cell_type": "code",
   "execution_count": 773,
   "id": "e502477b",
   "metadata": {},
   "outputs": [
    {
     "name": "stderr",
     "output_type": "stream",
     "text": [
      "\r",
      "[Stage 103:===========>                                            (2 + 8) / 10]\r",
      "\r",
      "                                                                                \r"
     ]
    },
    {
     "data": {
      "text/html": [
       "<div>\n",
       "<style scoped>\n",
       "    .dataframe tbody tr th:only-of-type {\n",
       "        vertical-align: middle;\n",
       "    }\n",
       "\n",
       "    .dataframe tbody tr th {\n",
       "        vertical-align: top;\n",
       "    }\n",
       "\n",
       "    .dataframe thead th {\n",
       "        text-align: right;\n",
       "    }\n",
       "</style>\n",
       "<table border=\"1\" class=\"dataframe\">\n",
       "  <thead>\n",
       "    <tr style=\"text-align: right;\">\n",
       "      <th></th>\n",
       "      <th>ip</th>\n",
       "    </tr>\n",
       "  </thead>\n",
       "  <tbody>\n",
       "    <tr>\n",
       "      <th>0</th>\n",
       "      <td>10.80.3.134</td>\n",
       "    </tr>\n",
       "    <tr>\n",
       "      <th>1</th>\n",
       "      <td>157.245.95.119</td>\n",
       "    </tr>\n",
       "    <tr>\n",
       "      <th>2</th>\n",
       "      <td>178.62.106.98</td>\n",
       "    </tr>\n",
       "    <tr>\n",
       "      <th>3</th>\n",
       "      <td>192.241.220.31</td>\n",
       "    </tr>\n",
       "    <tr>\n",
       "      <th>4</th>\n",
       "      <td>45.183.180.1</td>\n",
       "    </tr>\n",
       "    <tr>\n",
       "      <th>...</th>\n",
       "      <td>...</td>\n",
       "    </tr>\n",
       "    <tr>\n",
       "      <th>52283</th>\n",
       "      <td>10.81.7.58</td>\n",
       "    </tr>\n",
       "    <tr>\n",
       "      <th>52284</th>\n",
       "      <td>18577.181.9</td>\n",
       "    </tr>\n",
       "    <tr>\n",
       "      <th>52285</th>\n",
       "      <td>1.129.255.255</td>\n",
       "    </tr>\n",
       "    <tr>\n",
       "      <th>52286</th>\n",
       "      <td>10.77.171.50</td>\n",
       "    </tr>\n",
       "    <tr>\n",
       "      <th>52287</th>\n",
       "      <td>10.77.171.49</td>\n",
       "    </tr>\n",
       "  </tbody>\n",
       "</table>\n",
       "<p>52288 rows × 1 columns</p>\n",
       "</div>"
      ],
      "text/plain": [
       "                   ip\n",
       "0         10.80.3.134\n",
       "1      157.245.95.119\n",
       "2       178.62.106.98\n",
       "3      192.241.220.31\n",
       "4        45.183.180.1\n",
       "...               ...\n",
       "52283      10.81.7.58\n",
       "52284     18577.181.9\n",
       "52285   1.129.255.255\n",
       "52286    10.77.171.50\n",
       "52287    10.77.171.49\n",
       "\n",
       "[52288 rows x 1 columns]"
      ]
     },
     "execution_count": 773,
     "metadata": {},
     "output_type": "execute_result"
    }
   ],
   "source": [
    "vertex2 = df.select('dst').distinct().toPandas()\n",
    "vertex2.rename(columns = {'dst' : 'ip'}, inplace = True)\n",
    "vertex2"
   ]
  },
  {
   "cell_type": "code",
   "execution_count": 774,
   "id": "d30238dc",
   "metadata": {},
   "outputs": [
    {
     "name": "stderr",
     "output_type": "stream",
     "text": [
      "/var/folders/5_/f8txjnjs6n7fh09t4qnqq2d80000gn/T/ipykernel_17213/315525881.py:1: FutureWarning: The frame.append method is deprecated and will be removed from pandas in a future version. Use pandas.concat instead.\n",
      "  vertex = vertex1.append(vertex2)\n"
     ]
    },
    {
     "data": {
      "text/html": [
       "<div>\n",
       "<style scoped>\n",
       "    .dataframe tbody tr th:only-of-type {\n",
       "        vertical-align: middle;\n",
       "    }\n",
       "\n",
       "    .dataframe tbody tr th {\n",
       "        vertical-align: top;\n",
       "    }\n",
       "\n",
       "    .dataframe thead th {\n",
       "        text-align: right;\n",
       "    }\n",
       "</style>\n",
       "<table border=\"1\" class=\"dataframe\">\n",
       "  <thead>\n",
       "    <tr style=\"text-align: right;\">\n",
       "      <th></th>\n",
       "      <th>ip</th>\n",
       "    </tr>\n",
       "  </thead>\n",
       "  <tbody>\n",
       "    <tr>\n",
       "      <th>0</th>\n",
       "      <td>1.0.130.32</td>\n",
       "    </tr>\n",
       "    <tr>\n",
       "      <th>1</th>\n",
       "      <td>1.0.143.254</td>\n",
       "    </tr>\n",
       "    <tr>\n",
       "      <th>2</th>\n",
       "      <td>1.0.158.219</td>\n",
       "    </tr>\n",
       "    <tr>\n",
       "      <th>3</th>\n",
       "      <td>1.0.229.205</td>\n",
       "    </tr>\n",
       "    <tr>\n",
       "      <th>4</th>\n",
       "      <td>1.0.250.164</td>\n",
       "    </tr>\n",
       "    <tr>\n",
       "      <th>...</th>\n",
       "      <td>...</td>\n",
       "    </tr>\n",
       "    <tr>\n",
       "      <th>52283</th>\n",
       "      <td>10.81.7.58</td>\n",
       "    </tr>\n",
       "    <tr>\n",
       "      <th>52284</th>\n",
       "      <td>18577.181.9</td>\n",
       "    </tr>\n",
       "    <tr>\n",
       "      <th>52285</th>\n",
       "      <td>1.129.255.255</td>\n",
       "    </tr>\n",
       "    <tr>\n",
       "      <th>52286</th>\n",
       "      <td>10.77.171.50</td>\n",
       "    </tr>\n",
       "    <tr>\n",
       "      <th>52287</th>\n",
       "      <td>10.77.171.49</td>\n",
       "    </tr>\n",
       "  </tbody>\n",
       "</table>\n",
       "<p>1876648 rows × 1 columns</p>\n",
       "</div>"
      ],
      "text/plain": [
       "                  ip\n",
       "0         1.0.130.32\n",
       "1        1.0.143.254\n",
       "2        1.0.158.219\n",
       "3        1.0.229.205\n",
       "4        1.0.250.164\n",
       "...              ...\n",
       "52283     10.81.7.58\n",
       "52284    18577.181.9\n",
       "52285  1.129.255.255\n",
       "52286   10.77.171.50\n",
       "52287   10.77.171.49\n",
       "\n",
       "[1876648 rows x 1 columns]"
      ]
     },
     "execution_count": 774,
     "metadata": {},
     "output_type": "execute_result"
    }
   ],
   "source": [
    "vertex = vertex1.append(vertex2)\n",
    "vertex"
   ]
  },
  {
   "cell_type": "code",
   "execution_count": 775,
   "id": "5563dc50",
   "metadata": {},
   "outputs": [
    {
     "data": {
      "text/html": [
       "<div>\n",
       "<style scoped>\n",
       "    .dataframe tbody tr th:only-of-type {\n",
       "        vertical-align: middle;\n",
       "    }\n",
       "\n",
       "    .dataframe tbody tr th {\n",
       "        vertical-align: top;\n",
       "    }\n",
       "\n",
       "    .dataframe thead th {\n",
       "        text-align: right;\n",
       "    }\n",
       "</style>\n",
       "<table border=\"1\" class=\"dataframe\">\n",
       "  <thead>\n",
       "    <tr style=\"text-align: right;\">\n",
       "      <th></th>\n",
       "      <th>ip</th>\n",
       "    </tr>\n",
       "  </thead>\n",
       "  <tbody>\n",
       "    <tr>\n",
       "      <th>0</th>\n",
       "      <td>1.0.130.32</td>\n",
       "    </tr>\n",
       "    <tr>\n",
       "      <th>1</th>\n",
       "      <td>1.0.143.254</td>\n",
       "    </tr>\n",
       "    <tr>\n",
       "      <th>2</th>\n",
       "      <td>1.0.158.219</td>\n",
       "    </tr>\n",
       "    <tr>\n",
       "      <th>3</th>\n",
       "      <td>1.0.229.205</td>\n",
       "    </tr>\n",
       "    <tr>\n",
       "      <th>4</th>\n",
       "      <td>1.0.250.164</td>\n",
       "    </tr>\n",
       "    <tr>\n",
       "      <th>...</th>\n",
       "      <td>...</td>\n",
       "    </tr>\n",
       "    <tr>\n",
       "      <th>52269</th>\n",
       "      <td>95.128.242.162</td>\n",
       "    </tr>\n",
       "    <tr>\n",
       "      <th>52270</th>\n",
       "      <td>178.132.201.122</td>\n",
       "    </tr>\n",
       "    <tr>\n",
       "      <th>52271</th>\n",
       "      <td>198.49.86.140</td>\n",
       "    </tr>\n",
       "    <tr>\n",
       "      <th>52284</th>\n",
       "      <td>18577.181.9</td>\n",
       "    </tr>\n",
       "    <tr>\n",
       "      <th>52285</th>\n",
       "      <td>1.129.255.255</td>\n",
       "    </tr>\n",
       "  </tbody>\n",
       "</table>\n",
       "<p>1842168 rows × 1 columns</p>\n",
       "</div>"
      ],
      "text/plain": [
       "                    ip\n",
       "0           1.0.130.32\n",
       "1          1.0.143.254\n",
       "2          1.0.158.219\n",
       "3          1.0.229.205\n",
       "4          1.0.250.164\n",
       "...                ...\n",
       "52269   95.128.242.162\n",
       "52270  178.132.201.122\n",
       "52271    198.49.86.140\n",
       "52284      18577.181.9\n",
       "52285    1.129.255.255\n",
       "\n",
       "[1842168 rows x 1 columns]"
      ]
     },
     "execution_count": 775,
     "metadata": {},
     "output_type": "execute_result"
    }
   ],
   "source": [
    "vertex = vertex.drop_duplicates()\n",
    "vertex "
   ]
  },
  {
   "cell_type": "code",
   "execution_count": 776,
   "id": "c0bccf01",
   "metadata": {},
   "outputs": [
    {
     "name": "stderr",
     "output_type": "stream",
     "text": [
      "/var/folders/5_/f8txjnjs6n7fh09t4qnqq2d80000gn/T/ipykernel_17213/643902854.py:1: SettingWithCopyWarning: \n",
      "A value is trying to be set on a copy of a slice from a DataFrame.\n",
      "Try using .loc[row_indexer,col_indexer] = value instead\n",
      "\n",
      "See the caveats in the documentation: https://pandas.pydata.org/pandas-docs/stable/user_guide/indexing.html#returning-a-view-versus-a-copy\n",
      "  vertex['id'] = vertex.index\n"
     ]
    }
   ],
   "source": [
    "vertex['id'] = vertex.index"
   ]
  },
  {
   "cell_type": "code",
   "execution_count": 777,
   "id": "4f880633",
   "metadata": {},
   "outputs": [
    {
     "data": {
      "text/html": [
       "<div>\n",
       "<style scoped>\n",
       "    .dataframe tbody tr th:only-of-type {\n",
       "        vertical-align: middle;\n",
       "    }\n",
       "\n",
       "    .dataframe tbody tr th {\n",
       "        vertical-align: top;\n",
       "    }\n",
       "\n",
       "    .dataframe thead th {\n",
       "        text-align: right;\n",
       "    }\n",
       "</style>\n",
       "<table border=\"1\" class=\"dataframe\">\n",
       "  <thead>\n",
       "    <tr style=\"text-align: right;\">\n",
       "      <th></th>\n",
       "      <th>ip</th>\n",
       "      <th>id</th>\n",
       "    </tr>\n",
       "  </thead>\n",
       "  <tbody>\n",
       "    <tr>\n",
       "      <th>0</th>\n",
       "      <td>1.0.130.32</td>\n",
       "      <td>0</td>\n",
       "    </tr>\n",
       "    <tr>\n",
       "      <th>1</th>\n",
       "      <td>1.0.143.254</td>\n",
       "      <td>1</td>\n",
       "    </tr>\n",
       "    <tr>\n",
       "      <th>2</th>\n",
       "      <td>1.0.158.219</td>\n",
       "      <td>2</td>\n",
       "    </tr>\n",
       "    <tr>\n",
       "      <th>3</th>\n",
       "      <td>1.0.229.205</td>\n",
       "      <td>3</td>\n",
       "    </tr>\n",
       "    <tr>\n",
       "      <th>4</th>\n",
       "      <td>1.0.250.164</td>\n",
       "      <td>4</td>\n",
       "    </tr>\n",
       "  </tbody>\n",
       "</table>\n",
       "</div>"
      ],
      "text/plain": [
       "            ip  id\n",
       "0   1.0.130.32   0\n",
       "1  1.0.143.254   1\n",
       "2  1.0.158.219   2\n",
       "3  1.0.229.205   3\n",
       "4  1.0.250.164   4"
      ]
     },
     "execution_count": 777,
     "metadata": {},
     "output_type": "execute_result"
    }
   ],
   "source": [
    "vertex.head(5)"
   ]
  },
  {
   "cell_type": "code",
   "execution_count": 778,
   "id": "34766d0d",
   "metadata": {},
   "outputs": [
    {
     "name": "stderr",
     "output_type": "stream",
     "text": [
      "                                                                                \r"
     ]
    },
    {
     "data": {
      "text/html": [
       "<div>\n",
       "<style scoped>\n",
       "    .dataframe tbody tr th:only-of-type {\n",
       "        vertical-align: middle;\n",
       "    }\n",
       "\n",
       "    .dataframe tbody tr th {\n",
       "        vertical-align: top;\n",
       "    }\n",
       "\n",
       "    .dataframe thead th {\n",
       "        text-align: right;\n",
       "    }\n",
       "</style>\n",
       "<table border=\"1\" class=\"dataframe\">\n",
       "  <thead>\n",
       "    <tr style=\"text-align: right;\">\n",
       "      <th></th>\n",
       "      <th>src</th>\n",
       "      <th>dst</th>\n",
       "      <th>cnt</th>\n",
       "      <th>dst_id</th>\n",
       "    </tr>\n",
       "  </thead>\n",
       "  <tbody>\n",
       "    <tr>\n",
       "      <th>0</th>\n",
       "      <td>0.0.0.60</td>\n",
       "      <td>125.194.32.168</td>\n",
       "      <td>4</td>\n",
       "      <td>530895</td>\n",
       "    </tr>\n",
       "    <tr>\n",
       "      <th>1</th>\n",
       "      <td>1.0.167.69</td>\n",
       "      <td>125.194.32.176</td>\n",
       "      <td>1</td>\n",
       "      <td>1257047</td>\n",
       "    </tr>\n",
       "    <tr>\n",
       "      <th>2</th>\n",
       "      <td>1.1.111.173</td>\n",
       "      <td>125.194.32.164</td>\n",
       "      <td>1</td>\n",
       "      <td>1256138</td>\n",
       "    </tr>\n",
       "    <tr>\n",
       "      <th>3</th>\n",
       "      <td>1.1.129.156</td>\n",
       "      <td>125.194.32.183</td>\n",
       "      <td>1</td>\n",
       "      <td>1612088</td>\n",
       "    </tr>\n",
       "    <tr>\n",
       "      <th>4</th>\n",
       "      <td>1.1.131.72</td>\n",
       "      <td>125.194.32.168</td>\n",
       "      <td>1</td>\n",
       "      <td>712602</td>\n",
       "    </tr>\n",
       "    <tr>\n",
       "      <th>...</th>\n",
       "      <td>...</td>\n",
       "      <td>...</td>\n",
       "      <td>...</td>\n",
       "      <td>...</td>\n",
       "    </tr>\n",
       "    <tr>\n",
       "      <th>7857985</th>\n",
       "      <td>99.81.3.183</td>\n",
       "      <td>125.194.32.166</td>\n",
       "      <td>1</td>\n",
       "      <td>1245875</td>\n",
       "    </tr>\n",
       "    <tr>\n",
       "      <th>7857986</th>\n",
       "      <td>99.84.214.53</td>\n",
       "      <td>125.194.32.161</td>\n",
       "      <td>1</td>\n",
       "      <td>159752</td>\n",
       "    </tr>\n",
       "    <tr>\n",
       "      <th>7857987</th>\n",
       "      <td>99.86.242.71</td>\n",
       "      <td>125.194.32.178</td>\n",
       "      <td>2</td>\n",
       "      <td>1805351</td>\n",
       "    </tr>\n",
       "    <tr>\n",
       "      <th>7857988</th>\n",
       "      <td>99.91.12.209</td>\n",
       "      <td>125.194.32.172</td>\n",
       "      <td>1</td>\n",
       "      <td>1591470</td>\n",
       "    </tr>\n",
       "    <tr>\n",
       "      <th>7857989</th>\n",
       "      <td>99.93.19.168</td>\n",
       "      <td>125.194.32.178</td>\n",
       "      <td>1</td>\n",
       "      <td>526621</td>\n",
       "    </tr>\n",
       "  </tbody>\n",
       "</table>\n",
       "<p>7857990 rows × 4 columns</p>\n",
       "</div>"
      ],
      "text/plain": [
       "                  src             dst  cnt   dst_id\n",
       "0            0.0.0.60  125.194.32.168    4   530895\n",
       "1          1.0.167.69  125.194.32.176    1  1257047\n",
       "2         1.1.111.173  125.194.32.164    1  1256138\n",
       "3         1.1.129.156  125.194.32.183    1  1612088\n",
       "4          1.1.131.72  125.194.32.168    1   712602\n",
       "...               ...             ...  ...      ...\n",
       "7857985   99.81.3.183  125.194.32.166    1  1245875\n",
       "7857986  99.84.214.53  125.194.32.161    1   159752\n",
       "7857987  99.86.242.71  125.194.32.178    2  1805351\n",
       "7857988  99.91.12.209  125.194.32.172    1  1591470\n",
       "7857989  99.93.19.168  125.194.32.178    1   526621\n",
       "\n",
       "[7857990 rows x 4 columns]"
      ]
     },
     "execution_count": 778,
     "metadata": {},
     "output_type": "execute_result"
    }
   ],
   "source": [
    "pandasDf = df.toPandas()\n",
    "pandasDf.rename(columns = {'src' : 'ip'}, inplace = True)\n",
    "edge1 = pandasDf.merge(vertex, how='left', on='ip')\n",
    "edge1.rename(columns = {'id' : 'dst_id'}, inplace = True)\n",
    "edge1.rename(columns = {'ip' : 'src'}, inplace = True)\n",
    "edge1"
   ]
  },
  {
   "cell_type": "code",
   "execution_count": 779,
   "id": "4edcc720",
   "metadata": {},
   "outputs": [
    {
     "name": "stderr",
     "output_type": "stream",
     "text": [
      "                                                                                \r"
     ]
    },
    {
     "data": {
      "text/html": [
       "<div>\n",
       "<style scoped>\n",
       "    .dataframe tbody tr th:only-of-type {\n",
       "        vertical-align: middle;\n",
       "    }\n",
       "\n",
       "    .dataframe tbody tr th {\n",
       "        vertical-align: top;\n",
       "    }\n",
       "\n",
       "    .dataframe thead th {\n",
       "        text-align: right;\n",
       "    }\n",
       "</style>\n",
       "<table border=\"1\" class=\"dataframe\">\n",
       "  <thead>\n",
       "    <tr style=\"text-align: right;\">\n",
       "      <th></th>\n",
       "      <th>src</th>\n",
       "      <th>dst</th>\n",
       "      <th>cnt</th>\n",
       "      <th>src_id</th>\n",
       "    </tr>\n",
       "  </thead>\n",
       "  <tbody>\n",
       "    <tr>\n",
       "      <th>0</th>\n",
       "      <td>0.0.0.60</td>\n",
       "      <td>125.194.32.168</td>\n",
       "      <td>4</td>\n",
       "      <td>972098</td>\n",
       "    </tr>\n",
       "    <tr>\n",
       "      <th>1</th>\n",
       "      <td>1.0.167.69</td>\n",
       "      <td>125.194.32.176</td>\n",
       "      <td>1</td>\n",
       "      <td>1330023</td>\n",
       "    </tr>\n",
       "    <tr>\n",
       "      <th>2</th>\n",
       "      <td>1.1.111.173</td>\n",
       "      <td>125.194.32.164</td>\n",
       "      <td>1</td>\n",
       "      <td>1511850</td>\n",
       "    </tr>\n",
       "    <tr>\n",
       "      <th>3</th>\n",
       "      <td>1.1.129.156</td>\n",
       "      <td>125.194.32.183</td>\n",
       "      <td>1</td>\n",
       "      <td>1703467</td>\n",
       "    </tr>\n",
       "    <tr>\n",
       "      <th>4</th>\n",
       "      <td>1.1.131.72</td>\n",
       "      <td>125.194.32.168</td>\n",
       "      <td>1</td>\n",
       "      <td>972098</td>\n",
       "    </tr>\n",
       "    <tr>\n",
       "      <th>...</th>\n",
       "      <td>...</td>\n",
       "      <td>...</td>\n",
       "      <td>...</td>\n",
       "      <td>...</td>\n",
       "    </tr>\n",
       "    <tr>\n",
       "      <th>7857985</th>\n",
       "      <td>99.81.3.183</td>\n",
       "      <td>125.194.32.166</td>\n",
       "      <td>1</td>\n",
       "      <td>1711545</td>\n",
       "    </tr>\n",
       "    <tr>\n",
       "      <th>7857986</th>\n",
       "      <td>99.84.214.53</td>\n",
       "      <td>125.194.32.161</td>\n",
       "      <td>1</td>\n",
       "      <td>1505418</td>\n",
       "    </tr>\n",
       "    <tr>\n",
       "      <th>7857987</th>\n",
       "      <td>99.86.242.71</td>\n",
       "      <td>125.194.32.178</td>\n",
       "      <td>2</td>\n",
       "      <td>785950</td>\n",
       "    </tr>\n",
       "    <tr>\n",
       "      <th>7857988</th>\n",
       "      <td>99.91.12.209</td>\n",
       "      <td>125.194.32.172</td>\n",
       "      <td>1</td>\n",
       "      <td>612637</td>\n",
       "    </tr>\n",
       "    <tr>\n",
       "      <th>7857989</th>\n",
       "      <td>99.93.19.168</td>\n",
       "      <td>125.194.32.178</td>\n",
       "      <td>1</td>\n",
       "      <td>785950</td>\n",
       "    </tr>\n",
       "  </tbody>\n",
       "</table>\n",
       "<p>7857990 rows × 4 columns</p>\n",
       "</div>"
      ],
      "text/plain": [
       "                  src             dst  cnt   src_id\n",
       "0            0.0.0.60  125.194.32.168    4   972098\n",
       "1          1.0.167.69  125.194.32.176    1  1330023\n",
       "2         1.1.111.173  125.194.32.164    1  1511850\n",
       "3         1.1.129.156  125.194.32.183    1  1703467\n",
       "4          1.1.131.72  125.194.32.168    1   972098\n",
       "...               ...             ...  ...      ...\n",
       "7857985   99.81.3.183  125.194.32.166    1  1711545\n",
       "7857986  99.84.214.53  125.194.32.161    1  1505418\n",
       "7857987  99.86.242.71  125.194.32.178    2   785950\n",
       "7857988  99.91.12.209  125.194.32.172    1   612637\n",
       "7857989  99.93.19.168  125.194.32.178    1   785950\n",
       "\n",
       "[7857990 rows x 4 columns]"
      ]
     },
     "execution_count": 779,
     "metadata": {},
     "output_type": "execute_result"
    }
   ],
   "source": [
    "pandasDf = df.toPandas()\n",
    "pandasDf.rename(columns = {'dst' : 'ip'}, inplace = True)\n",
    "edge2 = pandasDf.merge(vertex, how='left', on='ip')\n",
    "edge2.rename(columns = {'id' : 'src_id'}, inplace = True)\n",
    "edge2.rename(columns = {'ip' : 'dst'}, inplace = True)\n",
    "edge2"
   ]
  },
  {
   "cell_type": "code",
   "execution_count": 781,
   "id": "b2c85a4f",
   "metadata": {},
   "outputs": [],
   "source": [
    "edge = edge1.merge(edge2, on=['src','dst', 'cnt'])\n",
    "edge = edge[[\"dst_id\", \"src_id\", \"cnt\"]]"
   ]
  },
  {
   "cell_type": "code",
   "execution_count": 41,
   "id": "c48a12c0",
   "metadata": {},
   "outputs": [
    {
     "data": {
      "text/html": [
       "<div>\n",
       "<style scoped>\n",
       "    .dataframe tbody tr th:only-of-type {\n",
       "        vertical-align: middle;\n",
       "    }\n",
       "\n",
       "    .dataframe tbody tr th {\n",
       "        vertical-align: top;\n",
       "    }\n",
       "\n",
       "    .dataframe thead th {\n",
       "        text-align: right;\n",
       "    }\n",
       "</style>\n",
       "<table border=\"1\" class=\"dataframe\">\n",
       "  <thead>\n",
       "    <tr style=\"text-align: right;\">\n",
       "      <th></th>\n",
       "      <th>id</th>\n",
       "      <th>ip</th>\n",
       "    </tr>\n",
       "  </thead>\n",
       "  <tbody>\n",
       "    <tr>\n",
       "      <th>0</th>\n",
       "      <td>0</td>\n",
       "      <td>1.0.130.32</td>\n",
       "    </tr>\n",
       "    <tr>\n",
       "      <th>1</th>\n",
       "      <td>1</td>\n",
       "      <td>1.0.143.254</td>\n",
       "    </tr>\n",
       "    <tr>\n",
       "      <th>2</th>\n",
       "      <td>2</td>\n",
       "      <td>1.0.158.219</td>\n",
       "    </tr>\n",
       "    <tr>\n",
       "      <th>3</th>\n",
       "      <td>3</td>\n",
       "      <td>1.0.229.205</td>\n",
       "    </tr>\n",
       "    <tr>\n",
       "      <th>4</th>\n",
       "      <td>4</td>\n",
       "      <td>1.0.250.164</td>\n",
       "    </tr>\n",
       "    <tr>\n",
       "      <th>...</th>\n",
       "      <td>...</td>\n",
       "      <td>...</td>\n",
       "    </tr>\n",
       "    <tr>\n",
       "      <th>52269</th>\n",
       "      <td>52269</td>\n",
       "      <td>95.128.242.162</td>\n",
       "    </tr>\n",
       "    <tr>\n",
       "      <th>52270</th>\n",
       "      <td>52270</td>\n",
       "      <td>178.132.201.122</td>\n",
       "    </tr>\n",
       "    <tr>\n",
       "      <th>52271</th>\n",
       "      <td>52271</td>\n",
       "      <td>198.49.86.140</td>\n",
       "    </tr>\n",
       "    <tr>\n",
       "      <th>52284</th>\n",
       "      <td>52284</td>\n",
       "      <td>18577.181.9</td>\n",
       "    </tr>\n",
       "    <tr>\n",
       "      <th>52285</th>\n",
       "      <td>52285</td>\n",
       "      <td>1.129.255.255</td>\n",
       "    </tr>\n",
       "  </tbody>\n",
       "</table>\n",
       "<p>1842168 rows × 2 columns</p>\n",
       "</div>"
      ],
      "text/plain": [
       "          id               ip\n",
       "0          0       1.0.130.32\n",
       "1          1      1.0.143.254\n",
       "2          2      1.0.158.219\n",
       "3          3      1.0.229.205\n",
       "4          4      1.0.250.164\n",
       "...      ...              ...\n",
       "52269  52269   95.128.242.162\n",
       "52270  52270  178.132.201.122\n",
       "52271  52271    198.49.86.140\n",
       "52284  52284      18577.181.9\n",
       "52285  52285    1.129.255.255\n",
       "\n",
       "[1842168 rows x 2 columns]"
      ]
     },
     "execution_count": 41,
     "metadata": {},
     "output_type": "execute_result"
    }
   ],
   "source": [
    "swap_columns(vertex, 'ip', 'id')"
   ]
  },
  {
   "cell_type": "code",
   "execution_count": 785,
   "id": "ff6a218f",
   "metadata": {},
   "outputs": [
    {
     "data": {
      "text/html": [
       "<div>\n",
       "<style scoped>\n",
       "    .dataframe tbody tr th:only-of-type {\n",
       "        vertical-align: middle;\n",
       "    }\n",
       "\n",
       "    .dataframe tbody tr th {\n",
       "        vertical-align: top;\n",
       "    }\n",
       "\n",
       "    .dataframe thead th {\n",
       "        text-align: right;\n",
       "    }\n",
       "</style>\n",
       "<table border=\"1\" class=\"dataframe\">\n",
       "  <thead>\n",
       "    <tr style=\"text-align: right;\">\n",
       "      <th></th>\n",
       "      <th>src</th>\n",
       "      <th>dst</th>\n",
       "      <th>type</th>\n",
       "    </tr>\n",
       "  </thead>\n",
       "  <tbody>\n",
       "    <tr>\n",
       "      <th>0</th>\n",
       "      <td>972098</td>\n",
       "      <td>530895</td>\n",
       "      <td>4</td>\n",
       "    </tr>\n",
       "    <tr>\n",
       "      <th>1</th>\n",
       "      <td>1330023</td>\n",
       "      <td>1257047</td>\n",
       "      <td>1</td>\n",
       "    </tr>\n",
       "    <tr>\n",
       "      <th>2</th>\n",
       "      <td>1511850</td>\n",
       "      <td>1256138</td>\n",
       "      <td>1</td>\n",
       "    </tr>\n",
       "    <tr>\n",
       "      <th>3</th>\n",
       "      <td>1703467</td>\n",
       "      <td>1612088</td>\n",
       "      <td>1</td>\n",
       "    </tr>\n",
       "    <tr>\n",
       "      <th>4</th>\n",
       "      <td>972098</td>\n",
       "      <td>712602</td>\n",
       "      <td>1</td>\n",
       "    </tr>\n",
       "    <tr>\n",
       "      <th>...</th>\n",
       "      <td>...</td>\n",
       "      <td>...</td>\n",
       "      <td>...</td>\n",
       "    </tr>\n",
       "    <tr>\n",
       "      <th>7857985</th>\n",
       "      <td>1711545</td>\n",
       "      <td>1245875</td>\n",
       "      <td>1</td>\n",
       "    </tr>\n",
       "    <tr>\n",
       "      <th>7857986</th>\n",
       "      <td>1505418</td>\n",
       "      <td>159752</td>\n",
       "      <td>1</td>\n",
       "    </tr>\n",
       "    <tr>\n",
       "      <th>7857987</th>\n",
       "      <td>785950</td>\n",
       "      <td>1805351</td>\n",
       "      <td>2</td>\n",
       "    </tr>\n",
       "    <tr>\n",
       "      <th>7857988</th>\n",
       "      <td>612637</td>\n",
       "      <td>1591470</td>\n",
       "      <td>1</td>\n",
       "    </tr>\n",
       "    <tr>\n",
       "      <th>7857989</th>\n",
       "      <td>785950</td>\n",
       "      <td>526621</td>\n",
       "      <td>1</td>\n",
       "    </tr>\n",
       "  </tbody>\n",
       "</table>\n",
       "<p>7857988 rows × 3 columns</p>\n",
       "</div>"
      ],
      "text/plain": [
       "             src      dst  type\n",
       "0         972098   530895     4\n",
       "1        1330023  1257047     1\n",
       "2        1511850  1256138     1\n",
       "3        1703467  1612088     1\n",
       "4         972098   712602     1\n",
       "...          ...      ...   ...\n",
       "7857985  1711545  1245875     1\n",
       "7857986  1505418   159752     1\n",
       "7857987   785950  1805351     2\n",
       "7857988   612637  1591470     1\n",
       "7857989   785950   526621     1\n",
       "\n",
       "[7857988 rows x 3 columns]"
      ]
     },
     "execution_count": 785,
     "metadata": {},
     "output_type": "execute_result"
    }
   ],
   "source": [
    "edge.rename(columns = {'src_id' : 'src'}, inplace = True)\n",
    "edge.rename(columns = {'dst_id' : 'dst'}, inplace = True)\n",
    "edge.rename(columns = {'cnt' : 'type'}, inplace = True)\n",
    "edge = swap_columns(edge, 'dst', 'src')\n",
    "edge"
   ]
  },
  {
   "cell_type": "code",
   "execution_count": 786,
   "id": "a2cce1c8",
   "metadata": {},
   "outputs": [],
   "source": [
    "# edge.loc[edge['src'] == 369658]"
   ]
  },
  {
   "cell_type": "code",
   "execution_count": 787,
   "id": "95336ecb",
   "metadata": {},
   "outputs": [],
   "source": [
    "# edge.loc[edge['src'] == 725031]"
   ]
  },
  {
   "cell_type": "code",
   "execution_count": 789,
   "id": "12114b36",
   "metadata": {},
   "outputs": [],
   "source": [
    "edge = edge.drop_duplicates()"
   ]
  },
  {
   "cell_type": "code",
   "execution_count": 790,
   "id": "3a5cb0c5",
   "metadata": {},
   "outputs": [
    {
     "data": {
      "text/plain": [
       "7857556"
      ]
     },
     "execution_count": 790,
     "metadata": {},
     "output_type": "execute_result"
    }
   ],
   "source": [
    "edge.groupby(['src', 'dst']).ngroups"
   ]
  },
  {
   "cell_type": "code",
   "execution_count": 809,
   "id": "f457cf87",
   "metadata": {},
   "outputs": [
    {
     "data": {
      "text/plain": [
       "1842168"
      ]
     },
     "execution_count": 809,
     "metadata": {},
     "output_type": "execute_result"
    }
   ],
   "source": [
    "len(vertex)"
   ]
  },
  {
   "cell_type": "code",
   "execution_count": 812,
   "id": "8177f821",
   "metadata": {},
   "outputs": [
    {
     "data": {
      "text/plain": [
       "15715967.46876072"
      ]
     },
     "execution_count": 812,
     "metadata": {},
     "output_type": "execute_result"
    }
   ],
   "source": [
    "D = (2 * len(edge)) /  len(vertex) * (len(vertex) - 1)\n",
    "D"
   ]
  },
  {
   "cell_type": "code",
   "execution_count": 857,
   "id": "fbf0c1da",
   "metadata": {},
   "outputs": [],
   "source": [
    "vertex1 = vertex.head(20)\n",
    "edge1 = edge.head(20)"
   ]
  },
  {
   "cell_type": "code",
   "execution_count": 858,
   "id": "276e268d",
   "metadata": {},
   "outputs": [],
   "source": [
    "v = spark.createDataFrame(vertex.head(50))\n",
    "e = spark.createDataFrame(edge.head(50))"
   ]
  },
  {
   "cell_type": "code",
   "execution_count": 859,
   "id": "7534a104",
   "metadata": {},
   "outputs": [
    {
     "name": "stderr",
     "output_type": "stream",
     "text": [
      "/Users/ekaterinaakulova/anaconda3/lib/python3.9/site-packages/pyspark/sql/dataframe.py:148: UserWarning: DataFrame.sql_ctx is an internal property, and will be removed in future releases. Use DataFrame.sparkSession instead.\n",
      "  warnings.warn(\n"
     ]
    }
   ],
   "source": [
    "G = GraphFrame(v, e)"
   ]
  },
  {
   "cell_type": "code",
   "execution_count": 860,
   "id": "0b9f7a10",
   "metadata": {},
   "outputs": [],
   "source": [
    "# g.degrees.show()"
   ]
  },
  {
   "cell_type": "code",
   "execution_count": 861,
   "id": "8f7f146e",
   "metadata": {},
   "outputs": [],
   "source": [
    "# g.connectedComponents().show(20)"
   ]
  },
  {
   "cell_type": "code",
   "execution_count": 862,
   "id": "cca183d6",
   "metadata": {},
   "outputs": [],
   "source": [
    "# type(gp)"
   ]
  },
  {
   "cell_type": "code",
   "execution_count": 863,
   "id": "859d62b3",
   "metadata": {},
   "outputs": [
    {
     "data": {
      "text/html": [
       "<div>\n",
       "<style scoped>\n",
       "    .dataframe tbody tr th:only-of-type {\n",
       "        vertical-align: middle;\n",
       "    }\n",
       "\n",
       "    .dataframe tbody tr th {\n",
       "        vertical-align: top;\n",
       "    }\n",
       "\n",
       "    .dataframe thead th {\n",
       "        text-align: right;\n",
       "    }\n",
       "</style>\n",
       "<table border=\"1\" class=\"dataframe\">\n",
       "  <thead>\n",
       "    <tr style=\"text-align: right;\">\n",
       "      <th></th>\n",
       "      <th>src</th>\n",
       "      <th>dst</th>\n",
       "      <th>type</th>\n",
       "    </tr>\n",
       "  </thead>\n",
       "  <tbody>\n",
       "    <tr>\n",
       "      <th>0</th>\n",
       "      <td>972098</td>\n",
       "      <td>530895</td>\n",
       "      <td>4</td>\n",
       "    </tr>\n",
       "    <tr>\n",
       "      <th>1</th>\n",
       "      <td>1330023</td>\n",
       "      <td>1257047</td>\n",
       "      <td>1</td>\n",
       "    </tr>\n",
       "    <tr>\n",
       "      <th>2</th>\n",
       "      <td>1511850</td>\n",
       "      <td>1256138</td>\n",
       "      <td>1</td>\n",
       "    </tr>\n",
       "    <tr>\n",
       "      <th>3</th>\n",
       "      <td>1703467</td>\n",
       "      <td>1612088</td>\n",
       "      <td>1</td>\n",
       "    </tr>\n",
       "    <tr>\n",
       "      <th>4</th>\n",
       "      <td>972098</td>\n",
       "      <td>712602</td>\n",
       "      <td>1</td>\n",
       "    </tr>\n",
       "  </tbody>\n",
       "</table>\n",
       "</div>"
      ],
      "text/plain": [
       "       src      dst  type\n",
       "0   972098   530895     4\n",
       "1  1330023  1257047     1\n",
       "2  1511850  1256138     1\n",
       "3  1703467  1612088     1\n",
       "4   972098   712602     1"
      ]
     },
     "execution_count": 863,
     "metadata": {},
     "output_type": "execute_result"
    }
   ],
   "source": [
    "edge.head(5)"
   ]
  },
  {
   "cell_type": "code",
   "execution_count": 864,
   "id": "d5a35e8e",
   "metadata": {},
   "outputs": [],
   "source": [
    "# def plot_graph(gx):\n",
    "#     gr = nx.DiGraph(directed = True)\n",
    "    \n",
    "#     gr = nx.from_pandas_edgelist(edge.head(10), 'src','dst')\n",
    "#    # gr.add_nodes_from(vertex.head(10)['id'])\n",
    "\n",
    "#     nx.draw(gr, with_labels=True, arrows = True, node_color='grey')"
   ]
  },
  {
   "cell_type": "code",
   "execution_count": 865,
   "id": "014fb51e",
   "metadata": {},
   "outputs": [],
   "source": [
    "# plot_graph(g)"
   ]
  },
  {
   "cell_type": "code",
   "execution_count": 866,
   "id": "f0210652",
   "metadata": {},
   "outputs": [],
   "source": [
    "def graph():\n",
    "    gr = nx.DiGraph(directed = True)\n",
    "    gr =nx.from_pandas_edgelist(edge1, 'src','dst',  edge_attr=['type'], create_using=nx.DiGraph)\n",
    "    #gr.add_nodes_from(vertex1)\n",
    "    gr = nx.convert_node_labels_to_integers(gr)\n",
    "    return gr"
   ]
  },
  {
   "cell_type": "markdown",
   "source": [],
   "metadata": {
    "collapsed": false
   }
  },
  {
   "cell_type": "code",
   "execution_count": 867,
   "id": "d236ead8",
   "metadata": {},
   "outputs": [],
   "source": [
    "dg = graph()"
   ]
  },
  {
   "cell_type": "code",
   "execution_count": 868,
   "id": "63a788e9",
   "metadata": {},
   "outputs": [],
   "source": [
    "# dg = graph()\n",
    "# # source = 0\n",
    "# # target = (dg.number_of_nodes() - 1)\n",
    "# # s_0 = dg.subgraph([source])"
   ]
  },
  {
   "cell_type": "code",
   "execution_count": 869,
   "id": "8de21638",
   "metadata": {},
   "outputs": [],
   "source": [
    "# type(dg)"
   ]
  },
  {
   "cell_type": "code",
   "execution_count": 870,
   "id": "33512253",
   "metadata": {},
   "outputs": [
    {
     "data": {
      "text/plain": [
       "NodeView((0, 1, 2, 3, 4, 5, 6, 7, 8, 9, 10, 11, 12, 13, 14, 15, 16, 17, 18, 19, 20, 21, 22, 23, 24, 25, 26, 27, 28, 29, 30, 31, 32))"
      ]
     },
     "execution_count": 870,
     "metadata": {},
     "output_type": "execute_result"
    }
   ],
   "source": [
    "dg.nodes()"
   ]
  },
  {
   "cell_type": "code",
   "execution_count": 871,
   "id": "64fb7cb8",
   "metadata": {},
   "outputs": [],
   "source": [
    "# dg.number_of_edges()"
   ]
  },
  {
   "cell_type": "code",
   "execution_count": 872,
   "id": "c574f0fb",
   "metadata": {},
   "outputs": [
    {
     "data": {
      "text/plain": [
       "{(0, 1): Text(-0.4904429343048106, 0.42212178476161183, '4'),\n",
       " (0, 8): Text(-0.6407842038486984, 0.39195557328129793, '1'),\n",
       " (0, 19): Text(-0.42467862937289813, -0.35806983071277554, '1'),\n",
       " (2, 3): Text(-0.7637120966331208, 0.41757109817064025, '1'),\n",
       " (4, 5): Text(0.7561469040512994, -0.03781783810497932, '1'),\n",
       " (6, 7): Text(0.022211166401113078, 0.9028006139021498, '1'),\n",
       " (6, 25): Text(-0.19312883057372765, 0.91514400259425, '1'),\n",
       " (9, 10): Text(0.872810027121633, 0.2689094042789052, '1'),\n",
       " (11, 12): Text(0.4043641543555348, -0.5133404909238558, '1'),\n",
       " (11, 22): Text(0.5289779201658381, 0.20043624423148954, '2'),\n",
       " (13, 14): Text(0.5562855282276997, -0.6263544152988306, '1'),\n",
       " (15, 16): Text(0.31110779346559, 0.37761523962620275, '1'),\n",
       " (15, 28): Text(-0.46161883592826203, -0.044483140762401216, '1'),\n",
       " (15, 32): Text(0.3982353623343662, -0.31353834715936507, '1'),\n",
       " (17, 18): Text(0.756761598435806, -0.30756102937650487, '1'),\n",
       " (20, 21): Text(0.1064990721530962, -0.9674171048529823, '2'),\n",
       " (23, 24): Text(-0.8042290046973113, -0.339217892341581, '1'),\n",
       " (26, 27): Text(-0.6900256638897427, 0.3144866429624591, '1'),\n",
       " (26, 29): Text(-0.0704293632414188, 0.5600994822432892, '1'),\n",
       " (30, 31): Text(-0.6227311184511384, -0.5806812310643488, '1')}"
      ]
     },
     "execution_count": 872,
     "metadata": {},
     "output_type": "execute_result"
    },
    {
     "data": {
      "image/png": "[encoded data removed]",
      "text/plain": [
       "<Figure size 640x480 with 1 Axes>"
      ]
     },
     "metadata": {},
     "output_type": "display_data"
    }
   ],
   "source": [
    "plt.figure()    \n",
    "pos = nx.spring_layout(dg)\n",
    "weight_labels = nx.get_edge_attributes(dg,'type')\n",
    "nx.draw(dg,pos,font_color = 'white',  with_labels = True,)\n",
    "nx.draw_networkx_edge_labels(dg,pos,edge_labels=weight_labels)"
   ]
  },
  {
   "cell_type": "code",
   "execution_count": 873,
   "id": "4f23369c",
   "metadata": {},
   "outputs": [
    {
     "data": {
      "text/plain": [
       "[0, 1]"
      ]
     },
     "execution_count": 873,
     "metadata": {},
     "output_type": "execute_result"
    }
   ],
   "source": [
    "nx.dag_longest_path(dg)"
   ]
  },
  {
   "cell_type": "code",
   "execution_count": 874,
   "id": "c3ff98be",
   "metadata": {},
   "outputs": [
    {
     "data": {
      "image/png": "[encoded data removed]",
      "text/plain": [
       "<Figure size 640x480 with 1 Axes>"
      ]
     },
     "metadata": {},
     "output_type": "display_data"
    }
   ],
   "source": [
    "nx.draw_networkx(dsg)"
   ]
  },
  {
   "cell_type": "markdown",
   "source": [],
   "metadata": {
    "collapsed": false
   }
  },
  {
   "cell_type": "code",
   "execution_count": 875,
   "id": "dcdc3b50",
   "metadata": {},
   "outputs": [],
   "source": [
    "# nx.write_gexf(G, 'graph_file1.gexf')"
   ]
  },
  {
   "cell_type": "code",
   "execution_count": 876,
   "id": "48bace18",
   "metadata": {},
   "outputs": [],
   "source": [
    "def subgraphs(i, G):\n",
    "    sub_graph = {}\n",
    "    sub_graphs = (G.subgraph(c) for c in nx.weakly_connected_components(G))\n",
    "    for n, sg in enumerate(sub_graphs):\n",
    "        sub_graph[n] = sg\n",
    "    return sub_graph[i]\n",
    "#     print (\"subgraph {} has {} nodes\".format(i, sg.number_of_nodes()))\n",
    "#     print (\"\\tNodes:\", sg.nodes(data=True))\n",
    "#     print (\"\\tEdges:\", sg.edges())"
   ]
  },
  {
   "cell_type": "code",
   "execution_count": 877,
   "id": "cc475d31",
   "metadata": {},
   "outputs": [],
   "source": [
    "dg = graph()\n",
    "first_node = p.min(list(dg.nodes()))\n",
    "last_node = p.max(dg.nodes())\n",
    "s_0 = subgraphs(source, dg)"
   ]
  },
  {
   "cell_type": "code",
   "execution_count": 878,
   "id": "2375fc7c",
   "metadata": {},
   "outputs": [
    {
     "data": {
      "text/plain": [
       "[0, 1]"
      ]
     },
     "execution_count": 878,
     "metadata": {},
     "output_type": "execute_result"
    }
   ],
   "source": [
    "nx.dag_longest_path(s_0)"
   ]
  },
  {
   "cell_type": "code",
   "execution_count": 879,
   "id": "a29a062c",
   "metadata": {},
   "outputs": [
    {
     "data": {
      "image/png": "[encoded data removed]",
      "text/plain": [
       "<Figure size 640x480 with 1 Axes>"
      ]
     },
     "metadata": {},
     "output_type": "display_data"
    }
   ],
   "source": [
    "nx.draw_networkx(s_0)"
   ]
  },
  {
   "cell_type": "code",
   "execution_count": 880,
   "id": "e6c0725b",
   "metadata": {},
   "outputs": [],
   "source": [
    "def descendants(G, source):\n",
    "    \"\"\"Return all nodes reachable from `source` in G.\n",
    "    Parameters\n",
    "    ----------\n",
    "    G : NetworkX DiGraph\n",
    "    source : node in G\n",
    "    Returns\n",
    "    -------\n",
    "    des : set()\n",
    "        The descendants of source in G\n",
    "    \"\"\"\n",
    "    if not G.has_node(source):\n",
    "        raise nx.NetworkXError(\"The node %s is not in the graph.\" % source)\n",
    "    des = set(nx.shortest_path_length(G, source=source).keys()) - set([source])\n",
    "    return des"
   ]
  },
  {
   "cell_type": "code",
   "execution_count": 881,
   "id": "bd860c5a",
   "metadata": {},
   "outputs": [
    {
     "data": {
      "text/plain": [
       "{1, 8, 19}"
      ]
     },
     "execution_count": 881,
     "metadata": {},
     "output_type": "execute_result"
    }
   ],
   "source": [
    "descendants(dg, source)"
   ]
  },
  {
   "cell_type": "code",
   "execution_count": 882,
   "id": "a322e5b2",
   "metadata": {},
   "outputs": [],
   "source": [
    "def ancestors(G, source):\n",
    "    \"\"\"Return all nodes having a path to `source` in G.\n",
    "    Parameters\n",
    "    ----------\n",
    "    G : NetworkX DiGraph\n",
    "    source : node in G\n",
    "    Returns\n",
    "    -------\n",
    "    ancestors : set()\n",
    "        The ancestors of source in G\n",
    "    \"\"\"\n",
    "    if not G.has_node(source):\n",
    "        raise nx.NetworkXError(\"The node %s is not in the graph.\" % source)\n",
    "    anc = set(nx.shortest_path_length(G, target=source).keys()) - set([source])\n",
    "    return anc"
   ]
  },
  {
   "cell_type": "code",
   "execution_count": 883,
   "id": "205ada59",
   "metadata": {},
   "outputs": [
    {
     "data": {
      "text/plain": [
       "set()"
      ]
     },
     "execution_count": 883,
     "metadata": {},
     "output_type": "execute_result"
    }
   ],
   "source": [
    "ancestors(dg,source)"
   ]
  },
  {
   "cell_type": "code",
   "execution_count": 884,
   "id": "9577a0e5",
   "metadata": {},
   "outputs": [],
   "source": [
    "from graphframes.lib import AggregateMessages as AM\n",
    "from pyspark.sql import functions as F"
   ]
  },
  {
   "cell_type": "code",
   "execution_count": 888,
   "id": "446d873a",
   "metadata": {},
   "outputs": [
    {
     "data": {
      "text/plain": [
       "<function __main__.<lambda>(path, id)>"
      ]
     },
     "execution_count": 888,
     "metadata": {},
     "output_type": "execute_result"
    }
   ],
   "source": [
    "add_path_udf = F.udf(lambda path, id: path + [id], ArrayType(StringType()))\n",
    "add_path_udf"
   ]
  },
  {
   "cell_type": "code",
   "execution_count": 887,
   "id": "3a1467b5",
   "metadata": {},
   "outputs": [
    {
     "data": {
      "text/plain": [
       "<function __main__.<lambda>(path, id)>"
      ]
     },
     "execution_count": 887,
     "metadata": {},
     "output_type": "execute_result"
    }
   ],
   "source": []
  },
  {
   "cell_type": "code",
   "execution_count": null,
   "id": "39d810ba",
   "metadata": {},
   "outputs": [],
   "source": []
  }
 ],
 "metadata": {
  "kernelspec": {
   "display_name": "Python 3 (ipykernel)",
   "language": "python",
   "name": "python3"
  },
  "language_info": {
   "codemirror_mode": {
    "name": "ipython",
    "version": 3
   },
   "file_extension": ".py",
   "mimetype": "text/x-python",
   "name": "python",
   "nbconvert_exporter": "python",
   "pygments_lexer": "ipython3",
   "version": "3.9.13"
  }
 },
 "nbformat": 4,
 "nbformat_minor": 5
}
